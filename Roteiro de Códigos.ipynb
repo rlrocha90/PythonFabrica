{
 "cells": [
  {
   "cell_type": "markdown",
   "id": "cb51a456",
   "metadata": {},
   "source": [
    "# Fábrica de Talentos"
   ]
  },
  {
   "cell_type": "markdown",
   "id": "33314fe3",
   "metadata": {},
   "source": [
    "**Ano: 2022 | Mês: Agosto -> Python**\n",
    "\n",
    "\n",
    "_Este notebook contém todos os exemplos do material PPT do curso de Python da Fábrica de Talentos._\n",
    "\n",
    "<table align=\"left\">\n",
    "  <td>\n",
    "    <a target=\"_blank\" href=\"https://colab.research.google.com/github/rlrocha90/PythonFabrica/blob/main/Roteiro%20de%20C%C3%B3digos.ipynb\"><img src=\"https://www.tensorflow.org/images/colab_logo_32px.png\" />Run in Google Colab</a>   \n",
    "  </td>\n",
    "</table>"
   ]
  },
  {
   "cell_type": "markdown",
   "id": "dfb9144b",
   "metadata": {},
   "source": [
    "## Curso de Python - Roteiro de Códigos"
   ]
  },
  {
   "cell_type": "markdown",
   "id": "40b8bfd1",
   "metadata": {},
   "source": [
    "### The Zen of Python"
   ]
  },
  {
   "cell_type": "code",
   "execution_count": null,
   "id": "44002bfe",
   "metadata": {},
   "outputs": [],
   "source": [
    "import this"
   ]
  },
  {
   "cell_type": "markdown",
   "id": "a715da63",
   "metadata": {},
   "source": [
    "### Módulos\n",
    "#### Confira um exemplo prático com as classes do módulo datetime"
   ]
  },
  {
   "cell_type": "code",
   "execution_count": null,
   "id": "0cee35ee",
   "metadata": {},
   "outputs": [],
   "source": [
    "from datetime import date\n",
    "print (date.today())\n",
    "\n",
    "import datetime\n",
    "print (datetime.date.today())\n",
    "print (datetime.datetime.now())"
   ]
  },
  {
   "cell_type": "markdown",
   "id": "b916ec86",
   "metadata": {},
   "source": [
    "#### Exemplo de uso do módulo math"
   ]
  },
  {
   "cell_type": "code",
   "execution_count": null,
   "id": "b8c4b287",
   "metadata": {},
   "outputs": [],
   "source": [
    "import math"
   ]
  },
  {
   "cell_type": "markdown",
   "id": "63c7bf91",
   "metadata": {},
   "source": [
    "Exponenciação"
   ]
  },
  {
   "cell_type": "code",
   "execution_count": null,
   "id": "84a2cec3",
   "metadata": {},
   "outputs": [],
   "source": [
    "math.pow(2,3)"
   ]
  },
  {
   "cell_type": "markdown",
   "id": "8ed17aea",
   "metadata": {},
   "source": [
    "Logaritmo"
   ]
  },
  {
   "cell_type": "code",
   "execution_count": null,
   "id": "ac3927dc",
   "metadata": {},
   "outputs": [],
   "source": [
    "math.log(1024,2)"
   ]
  },
  {
   "cell_type": "markdown",
   "id": "039db39b",
   "metadata": {},
   "source": [
    "Raiz quadrada"
   ]
  },
  {
   "cell_type": "code",
   "execution_count": null,
   "id": "3558dda4",
   "metadata": {},
   "outputs": [],
   "source": [
    "math.sqrt(16)"
   ]
  },
  {
   "cell_type": "markdown",
   "id": "1dc3bc2a",
   "metadata": {},
   "source": [
    "Constante PI"
   ]
  },
  {
   "cell_type": "code",
   "execution_count": null,
   "id": "e51759cc",
   "metadata": {},
   "outputs": [],
   "source": [
    "math.pi"
   ]
  },
  {
   "cell_type": "markdown",
   "id": "34a50f65",
   "metadata": {},
   "source": [
    "Coseno"
   ]
  },
  {
   "cell_type": "code",
   "execution_count": null,
   "id": "864cad02",
   "metadata": {},
   "outputs": [],
   "source": [
    "math.cos(math.pi / 4)"
   ]
  },
  {
   "cell_type": "markdown",
   "id": "cdc56862",
   "metadata": {},
   "source": [
    "#### Exemplo com módulo random"
   ]
  },
  {
   "cell_type": "code",
   "execution_count": null,
   "id": "26720378",
   "metadata": {},
   "outputs": [],
   "source": [
    "import random\n",
    "\n",
    "X = random.choice ([\"Maça\", \"Pera\", \"Banana\"])\n",
    "print(X)\n",
    "Y = random.sample(range(100),10)\n",
    "print(Y)\n",
    "Z = random.random()\n",
    "print(Z)"
   ]
  },
  {
   "cell_type": "markdown",
   "id": "2c5a8cfb",
   "metadata": {},
   "source": [
    "#### Exemplo com datetime"
   ]
  },
  {
   "cell_type": "code",
   "execution_count": null,
   "id": "a5d837ff",
   "metadata": {},
   "outputs": [],
   "source": [
    "from datetime import date\n",
    "\n",
    "now = date.today()\n",
    "print (now)\n",
    "print(type(now))\n",
    "\n",
    "x = now.strftime(\"%m-%d-%y\")\n",
    "print(x)\n",
    "print(type(x))\n",
    "\n",
    "birthday = date(1999,3,4)\n",
    "idade = now - birthday\n",
    "print(idade)"
   ]
  },
  {
   "cell_type": "markdown",
   "id": "c161f3e6",
   "metadata": {},
   "source": [
    "### Blocos por indentação"
   ]
  },
  {
   "cell_type": "code",
   "execution_count": null,
   "id": "933f0a25",
   "metadata": {},
   "outputs": [],
   "source": [
    "a = 54\n",
    "b = 24\n",
    "c = 21\n",
    "\n",
    "if a>b:\n",
    "    a = b\n",
    "    if a>c:\n",
    "        a = c\n",
    "elif a<b:\n",
    "    a=c\n",
    "print(a)"
   ]
  },
  {
   "cell_type": "markdown",
   "id": "852dbe8f",
   "metadata": {},
   "source": [
    "## Exercício\n",
    "##### Use a caixa abaixo para resolver o exercício proposto no slide 42"
   ]
  },
  {
   "cell_type": "code",
   "execution_count": null,
   "id": "de1059be",
   "metadata": {},
   "outputs": [],
   "source": [
    "# use este espaço para criar o código!!!\n",
    "\n",
    "\n"
   ]
  },
  {
   "cell_type": "markdown",
   "id": "d07f4c2e",
   "metadata": {},
   "source": [
    "### Tipagem 1"
   ]
  },
  {
   "cell_type": "code",
   "execution_count": null,
   "id": "9591eb1f",
   "metadata": {},
   "outputs": [],
   "source": [
    "def sum(valor):\n",
    "    return valor + valor\n",
    "\n",
    "X = sum(7)\n",
    "Y = sum(\"Python\")\n",
    "Z = sum([10,True,34.5])\n",
    "\n",
    "print(X)\n",
    "print(Y)\n",
    "print(Z)"
   ]
  },
  {
   "cell_type": "markdown",
   "id": "42caaa3d",
   "metadata": {},
   "source": [
    "### Tipagem 2"
   ]
  },
  {
   "cell_type": "code",
   "execution_count": null,
   "id": "166fe704",
   "metadata": {},
   "outputs": [],
   "source": [
    "\"9\" + 10"
   ]
  },
  {
   "cell_type": "code",
   "execution_count": null,
   "id": "aff80936",
   "metadata": {},
   "outputs": [],
   "source": [
    "\"9\" * 10"
   ]
  },
  {
   "cell_type": "markdown",
   "id": "1f238e35",
   "metadata": {},
   "source": [
    "### Tipos de Inicialização"
   ]
  },
  {
   "cell_type": "code",
   "execution_count": null,
   "id": "6bd9797a",
   "metadata": {},
   "outputs": [],
   "source": [
    "a = 5\n",
    "b = 'loop'\n",
    "type(a)"
   ]
  },
  {
   "cell_type": "code",
   "execution_count": null,
   "id": "8d33f960",
   "metadata": {},
   "outputs": [],
   "source": [
    "type(b)"
   ]
  },
  {
   "cell_type": "markdown",
   "id": "c6b74e2e",
   "metadata": {},
   "source": [
    "### Atribuição Múltipla"
   ]
  },
  {
   "cell_type": "code",
   "execution_count": null,
   "id": "6b8863f4",
   "metadata": {},
   "outputs": [],
   "source": [
    "a, b, c = 1, 3, 5\n",
    "a, b, c"
   ]
  },
  {
   "cell_type": "code",
   "execution_count": null,
   "id": "6d39e505",
   "metadata": {},
   "outputs": [],
   "source": [
    "a, b, c = a*2, a+b+c, a*b*c\n",
    "a, b, c"
   ]
  },
  {
   "cell_type": "markdown",
   "id": "0744fa04",
   "metadata": {},
   "source": [
    "#### Útil na troca de valores"
   ]
  },
  {
   "cell_type": "code",
   "execution_count": null,
   "id": "a4ed4e9f",
   "metadata": {},
   "outputs": [],
   "source": [
    "a, b = 2, 5\n",
    "print('a=%d b=%d' % (a,b))\n",
    "\n",
    "a, b = b, a\n",
    "print('a=%d b=%d' % (a,b))"
   ]
  },
  {
   "cell_type": "markdown",
   "id": "28156372",
   "metadata": {},
   "source": [
    "## Exercício\n",
    "##### Use a caixa abaixo para resolver o exercício proposto no slide 55"
   ]
  },
  {
   "cell_type": "code",
   "execution_count": null,
   "id": "c26a0894",
   "metadata": {},
   "outputs": [],
   "source": [
    "# use este espaço para criar o código!!!\n",
    "\n",
    "\n"
   ]
  },
  {
   "cell_type": "markdown",
   "id": "380a0029",
   "metadata": {},
   "source": [
    "### IF"
   ]
  },
  {
   "cell_type": "code",
   "execution_count": null,
   "id": "b8429f1c",
   "metadata": {},
   "outputs": [],
   "source": [
    "x = eval(input(\"Entre com um número inteiro: \"))\n",
    "\n",
    "if x<0:\n",
    "    x=0\n",
    "    print(\"Número informado é negativo\")\n",
    "elif x == 0:\n",
    "    print(\"Número igual a zero\")\n",
    "elif x == 1:\n",
    "    print(\"Número igual a 1\")\n",
    "else:\n",
    "    print(\"Número válido: %d\" %x)"
   ]
  },
  {
   "cell_type": "markdown",
   "id": "e93b3471",
   "metadata": {},
   "source": [
    "### FOR"
   ]
  },
  {
   "cell_type": "markdown",
   "id": "15d70b11",
   "metadata": {},
   "source": [
    "### #calcular o tamanho de algumas strings"
   ]
  },
  {
   "cell_type": "code",
   "execution_count": null,
   "id": "725dec9e",
   "metadata": {},
   "outputs": [],
   "source": [
    "a = [\"Gato\",\"Janel\",\"Contextualizar\"]\n",
    "for x in a:\n",
    "    print(x,len(x))"
   ]
  },
  {
   "cell_type": "markdown",
   "id": "35e605af",
   "metadata": {},
   "source": [
    "#### Range"
   ]
  },
  {
   "cell_type": "code",
   "execution_count": null,
   "id": "61b87474",
   "metadata": {},
   "outputs": [],
   "source": [
    "print(\"------RANGE--------\")\n",
    "for a in range(5):\n",
    "    print(a)"
   ]
  },
  {
   "cell_type": "markdown",
   "id": "9c0a6d8b",
   "metadata": {},
   "source": [
    "#### Break"
   ]
  },
  {
   "cell_type": "code",
   "execution_count": null,
   "id": "898bd3c3",
   "metadata": {},
   "outputs": [],
   "source": [
    "print(\"------BREAK--------\")\n",
    "for x in range(1,10):\n",
    "    if x % 2 == 0:\n",
    "        print(\"Número par %d\" %x)\n",
    "        break"
   ]
  },
  {
   "cell_type": "markdown",
   "id": "b3eba68a",
   "metadata": {},
   "source": [
    "#### Continue"
   ]
  },
  {
   "cell_type": "code",
   "execution_count": null,
   "id": "73786698",
   "metadata": {},
   "outputs": [],
   "source": [
    "for x in range(1,10):\n",
    "    if x % 2 == 0:\n",
    "        continue\n",
    "    print(\"Número impar %d\" %x)"
   ]
  },
  {
   "cell_type": "markdown",
   "id": "162389ff",
   "metadata": {},
   "source": [
    "#### Else em FOR"
   ]
  },
  {
   "cell_type": "code",
   "execution_count": null,
   "id": "2bd9dc01",
   "metadata": {},
   "outputs": [],
   "source": [
    "for n in range (2,10):\n",
    "    for x in range (2,n):\n",
    "        if n % x == 0:\n",
    "            print(\"%d = %d * %d\" %(n,x,n/x))\n",
    "            break\n",
    "    else:\n",
    "        print(\"%d é um número primo\" %n)"
   ]
  },
  {
   "cell_type": "markdown",
   "id": "a9242226",
   "metadata": {},
   "source": [
    "### WHILE"
   ]
  },
  {
   "cell_type": "code",
   "execution_count": null,
   "id": "61e029ef",
   "metadata": {},
   "outputs": [],
   "source": [
    "### Atenção, vai executar pra sempre. Pare a execução logo que ver o resultado!!!\n",
    "while True:\n",
    "    a = 10\n",
    "    while a>0:\n",
    "        if a % 2 == 0:\n",
    "            a-=1\n",
    "            continue\n",
    "        print(\"Número ímpar: %d\" %a)\n",
    "        a -= 1"
   ]
  },
  {
   "cell_type": "markdown",
   "id": "675ffffa",
   "metadata": {},
   "source": [
    "## Exercício\n",
    "##### Use a caixa abaixo para resolver o exercício proposto no slide 63"
   ]
  },
  {
   "cell_type": "code",
   "execution_count": null,
   "id": "462c4328",
   "metadata": {},
   "outputs": [],
   "source": [
    "# use este espaço para criar o código!!!\n",
    "\n",
    "\n"
   ]
  },
  {
   "cell_type": "markdown",
   "id": "79cd6438",
   "metadata": {},
   "source": [
    "### Funções"
   ]
  },
  {
   "cell_type": "code",
   "execution_count": null,
   "id": "0ce1d096",
   "metadata": {},
   "outputs": [],
   "source": [
    "\"\"\"\n",
    "tupla()\n",
    "lista []\n",
    "Dicionário {}\n",
    "\"\"\"\n",
    "seq = \"arara\"\n",
    "seq2 = \"araraquara\"\n",
    "res = []\n",
    "\n",
    "for x in seq:\n",
    "    if x in seq2:\n",
    "        res.append(x)\n",
    "print(res)"
   ]
  },
  {
   "cell_type": "code",
   "execution_count": null,
   "id": "4c0875ca",
   "metadata": {},
   "outputs": [],
   "source": [
    "print(\"--------FUNCAO--------\")\n",
    "\n",
    "def interesecao(seqx, seqy):\n",
    "    res1 = []\n",
    "    for x2 in seqx:\n",
    "        if x2 in seqy:\n",
    "            res1.append(x2)\n",
    "    return res1\n",
    "\n",
    "z = []\n",
    "Z = (interesecao(\"Cordenadas\", \"Cordeiro\"))\n",
    "print(Z)"
   ]
  },
  {
   "cell_type": "markdown",
   "id": "2fcfeb58",
   "metadata": {},
   "source": [
    "## Exercício\n",
    "##### Use a caixa abaixo para resolver o exercício proposto no slide 69"
   ]
  },
  {
   "cell_type": "code",
   "execution_count": null,
   "id": "df341c01",
   "metadata": {},
   "outputs": [],
   "source": [
    "# use este espaço para criar o código!!!\n",
    "\n",
    "\n"
   ]
  },
  {
   "cell_type": "markdown",
   "id": "c52c1745",
   "metadata": {},
   "source": [
    "### Estruturas de Dados"
   ]
  },
  {
   "cell_type": "markdown",
   "id": "0acd25b5",
   "metadata": {},
   "source": [
    "#### String"
   ]
  },
  {
   "cell_type": "code",
   "execution_count": null,
   "id": "9f1f7c7c",
   "metadata": {},
   "outputs": [],
   "source": [
    "msg1 = \"Isto é uma mensagem\"\n",
    "msg2 = 'mas \"Frequentemente\" me perguntam'\n",
    "\n",
    "print(msg1)\n",
    "print(msg2)\n",
    "\n",
    "print(msg2[5:19])"
   ]
  },
  {
   "cell_type": "code",
   "execution_count": null,
   "id": "30518cd0",
   "metadata": {},
   "outputs": [],
   "source": [
    "msg = \"\\t Falar é completamente fácil, Quando se tem a palavra em mente. \\nDificil é se expressar por gestos e atitudes\"\n",
    "\n",
    "print(msg)"
   ]
  },
  {
   "cell_type": "code",
   "execution_count": null,
   "id": "2b842bfd",
   "metadata": {},
   "outputs": [],
   "source": [
    "a = \"carlos drummond andrade\"\n",
    "\n",
    "print(f\"Capitular: {a.capitalize()}\")\n",
    "print(f\"Titel: {a.title()}\")\n",
    "print(f\"Upper: {a.upper()}\")\n",
    "print(f\"Lower: {a.lower()}\")"
   ]
  },
  {
   "cell_type": "code",
   "execution_count": null,
   "id": "de62100c",
   "metadata": {},
   "outputs": [],
   "source": [
    "a = \"carlos\"\n",
    "b = \"drummond\"\n",
    "c = \"andrade\"\n",
    "\n",
    "d = a+b+c\n",
    "print (d)"
   ]
  },
  {
   "cell_type": "markdown",
   "id": "98dfa531",
   "metadata": {},
   "source": [
    "## Exercício\n",
    "##### Use a caixa abaixo para resolver o exercício proposto no slide 76"
   ]
  },
  {
   "cell_type": "code",
   "execution_count": null,
   "id": "b1a15e7a",
   "metadata": {},
   "outputs": [],
   "source": [
    "# use este espaço para criar o código!!!\n",
    "\n",
    "\n"
   ]
  },
  {
   "cell_type": "markdown",
   "id": "727a96b0",
   "metadata": {},
   "source": [
    "#### Tuplas"
   ]
  },
  {
   "cell_type": "code",
   "execution_count": null,
   "id": "3872bccb",
   "metadata": {},
   "outputs": [],
   "source": [
    "minhaTupla = tuple()\n",
    "print(type(minhaTupla))\n",
    "\n",
    "minhaTupla1 = (1, 2, 3)\n",
    "print(type(minhaTupla1))\n",
    "\n",
    "minhaTupla2 = 1, 2, 3\n",
    "print(type(minhaTupla))"
   ]
  },
  {
   "cell_type": "code",
   "execution_count": null,
   "id": "6b303fa8",
   "metadata": {},
   "outputs": [],
   "source": [
    "vogais = (\"a\", \"e\", \"i\", \"o\")\n",
    "print(id(vogais))\n",
    "\n",
    "vogais = vogais + (\"u\", )\n",
    "print(id(vogais))"
   ]
  },
  {
   "cell_type": "code",
   "execution_count": null,
   "id": "31336400",
   "metadata": {},
   "outputs": [],
   "source": [
    "t1 = (\"a\", )\n",
    "print(type(t1))\n",
    "t2 = (\"a\")\n",
    "print(type(t2))"
   ]
  },
  {
   "cell_type": "markdown",
   "id": "c5019ecf",
   "metadata": {},
   "source": [
    "#### Dicionários"
   ]
  },
  {
   "cell_type": "code",
   "execution_count": null,
   "id": "515250a9",
   "metadata": {},
   "outputs": [],
   "source": [
    "tel = {\"Ranyeri\":123, \"Rocha\":456}\n",
    "tel[\"Lago\"] = 789\n",
    "print(tel[\"Lago\"])"
   ]
  },
  {
   "cell_type": "code",
   "execution_count": null,
   "id": "b81efc32",
   "metadata": {},
   "outputs": [],
   "source": [
    "del tel[\"Rocha\"]\n",
    "print(tel)"
   ]
  },
  {
   "cell_type": "code",
   "execution_count": null,
   "id": "a3ef1581",
   "metadata": {},
   "outputs": [],
   "source": [
    "tel[\"Rocha\"] = 1254\n",
    "print(tel)"
   ]
  },
  {
   "cell_type": "code",
   "execution_count": null,
   "id": "df6e2296",
   "metadata": {},
   "outputs": [],
   "source": [
    "tel[\"jone\"]"
   ]
  },
  {
   "cell_type": "code",
   "execution_count": null,
   "id": "0aebc6f9",
   "metadata": {},
   "outputs": [],
   "source": [
    "tel.keys()"
   ]
  },
  {
   "cell_type": "code",
   "execution_count": null,
   "id": "03fd5b8f",
   "metadata": {},
   "outputs": [],
   "source": [
    "tell = dict([(\"Ranyeri\",123), (\"Lago\",456), (\"Rocha\",789)])\n",
    "\n",
    "x = \"Ranyeri\" in tell\n",
    "print(x)"
   ]
  },
  {
   "cell_type": "markdown",
   "id": "20732bfa",
   "metadata": {},
   "source": [
    "## Exercício\n",
    "##### Use a caixa abaixo para resolver os exercícios propostos nos slides 85 e 86"
   ]
  },
  {
   "cell_type": "code",
   "execution_count": null,
   "id": "c1ce9af3",
   "metadata": {},
   "outputs": [],
   "source": [
    "# use este espaço para criar o código!!!\n",
    "\n",
    "\n"
   ]
  },
  {
   "cell_type": "code",
   "execution_count": null,
   "id": "8be3ba47",
   "metadata": {},
   "outputs": [],
   "source": [
    "# use este espaço para criar o código!!!\n",
    "\n",
    "\n"
   ]
  },
  {
   "cell_type": "code",
   "execution_count": null,
   "id": "538b6d9f",
   "metadata": {},
   "outputs": [],
   "source": [
    "# use este espaço para criar o código!!!\n",
    "\n",
    "\n"
   ]
  },
  {
   "cell_type": "markdown",
   "id": "8ede4ce5",
   "metadata": {},
   "source": [
    "#### Listas"
   ]
  },
  {
   "cell_type": "code",
   "execution_count": null,
   "id": "bfa65d99",
   "metadata": {},
   "outputs": [],
   "source": [
    "list1 = [10,20,\"30\",40]\n",
    "print(list1)\n",
    "\n",
    "list2 = [\"Spam\", \"Bug\", \"Sorvete\"]\n",
    "print(type(list2))"
   ]
  },
  {
   "cell_type": "code",
   "execution_count": null,
   "id": "60a8ef4c",
   "metadata": {},
   "outputs": [],
   "source": [
    "list3 = [\"oi\",2353,[\"outra lista\",789]]\n",
    "\n",
    "print(type(list3))\n",
    "print(list3)"
   ]
  },
  {
   "cell_type": "code",
   "execution_count": null,
   "id": "9adf7ec5",
   "metadata": {},
   "outputs": [],
   "source": [
    "y = list()\n",
    "\n",
    "print(len(y))\n",
    "y = [2,4,1523,1,51]\n",
    "print(len(y))\n",
    "\n",
    "y = y + [\"ola\", \"tube bem?\",1]\n",
    "print(y)\n",
    "print(len(y))\n",
    "\n",
    "print(y[0:6])\n",
    "print(y.count(1))"
   ]
  },
  {
   "cell_type": "code",
   "execution_count": null,
   "id": "4881ddf3",
   "metadata": {},
   "outputs": [],
   "source": [
    "alunos = [[\"Fabio\", 20], [\"Pedro\", 21], [\"Tiago\", None]]\n",
    "print(alunos[1])\n",
    "print(alunos[1:3])"
   ]
  },
  {
   "cell_type": "code",
   "execution_count": null,
   "id": "289940a4",
   "metadata": {},
   "outputs": [],
   "source": [
    "nome, idade = alunos[2]\n",
    "print(nome)\n",
    "print(idade)"
   ]
  },
  {
   "cell_type": "code",
   "execution_count": null,
   "id": "a1176e1c",
   "metadata": {},
   "outputs": [],
   "source": [
    "passaros = [\"canario\", \"pica-pau\", \"papagaio\", \"foca\"]\n",
    "passaros[3] = \"joao de barro\"\n",
    "print(passaros)"
   ]
  },
  {
   "cell_type": "code",
   "execution_count": null,
   "id": "7ada9e2a",
   "metadata": {},
   "outputs": [],
   "source": [
    "del passaros[1]\n",
    "print(passaros)\n",
    "\n",
    "passaros.remove(\"papagaio\")\n",
    "print(passaros)"
   ]
  },
  {
   "cell_type": "code",
   "execution_count": null,
   "id": "25af3292",
   "metadata": {},
   "outputs": [],
   "source": [
    "cavaleros = [\"guerra\", \"fome\", \"peste\", \"morte\"]\n",
    "\"peste\" in cavaleros"
   ]
  },
  {
   "cell_type": "code",
   "execution_count": null,
   "id": "00d4c87e",
   "metadata": {},
   "outputs": [],
   "source": [
    "\"depravação\" in cavaleros"
   ]
  },
  {
   "cell_type": "code",
   "execution_count": null,
   "id": "92052cd4",
   "metadata": {},
   "outputs": [],
   "source": [
    "familia = [\"Ranyeri\", \"Paula\", \"Luísa\"]"
   ]
  },
  {
   "cell_type": "code",
   "execution_count": null,
   "id": "33c07923",
   "metadata": {},
   "outputs": [],
   "source": [
    "familia.append(\"unida\")\n",
    "familia"
   ]
  },
  {
   "cell_type": "code",
   "execution_count": null,
   "id": "ef330938",
   "metadata": {},
   "outputs": [],
   "source": [
    "last_value = familia.pop()\n",
    "last_value"
   ]
  },
  {
   "cell_type": "code",
   "execution_count": null,
   "id": "d4d7861e",
   "metadata": {},
   "outputs": [],
   "source": [
    "familia.insert(0, \"Todos\")\n",
    "familia"
   ]
  },
  {
   "cell_type": "code",
   "execution_count": null,
   "id": "26e8fc85",
   "metadata": {},
   "outputs": [],
   "source": [
    "first_value = familia.pop(0)\n",
    "first_value"
   ]
  },
  {
   "cell_type": "code",
   "execution_count": null,
   "id": "debadb77",
   "metadata": {},
   "outputs": [],
   "source": [
    "familia.count(\"Luísa\")"
   ]
  },
  {
   "cell_type": "code",
   "execution_count": null,
   "id": "fdf34ee1",
   "metadata": {},
   "outputs": [],
   "source": [
    "familia.reverse()\n",
    "familia"
   ]
  },
  {
   "cell_type": "markdown",
   "id": "7319ccaf",
   "metadata": {},
   "source": [
    "## Exercício\n",
    "##### Use a caixa abaixo para resolver o exercício proposto no slide 98"
   ]
  },
  {
   "cell_type": "code",
   "execution_count": null,
   "id": "0a0aba87",
   "metadata": {},
   "outputs": [],
   "source": [
    "# use este espaço para criar o código!!!\n",
    "\n",
    "\n"
   ]
  },
  {
   "cell_type": "markdown",
   "id": "07d2a878",
   "metadata": {},
   "source": [
    "## Orientação a Objetos\n",
    "### Classe"
   ]
  },
  {
   "cell_type": "code",
   "execution_count": null,
   "id": "c0ae54f0",
   "metadata": {},
   "outputs": [],
   "source": [
    "class Cachorro(object):\n",
    "    pass"
   ]
  },
  {
   "cell_type": "code",
   "execution_count": null,
   "id": "b23b1ecd",
   "metadata": {},
   "outputs": [],
   "source": [
    "Cachorro()"
   ]
  },
  {
   "cell_type": "code",
   "execution_count": null,
   "id": "ca06dfa1",
   "metadata": {},
   "outputs": [],
   "source": [
    "id(Cachorro)"
   ]
  },
  {
   "cell_type": "code",
   "execution_count": null,
   "id": "2cfb1197",
   "metadata": {},
   "outputs": [],
   "source": [
    "scooby = Cachorro()\n",
    "id(scooby)"
   ]
  },
  {
   "cell_type": "markdown",
   "id": "f4eb3dfb",
   "metadata": {},
   "source": [
    "#### Manipulando variável"
   ]
  },
  {
   "cell_type": "code",
   "execution_count": null,
   "id": "8eaf2f8a",
   "metadata": {},
   "outputs": [],
   "source": [
    "d = Cachorro()\n",
    "def registrar(c):\n",
    "    print(\"Id: %d do objeto passado como argumento da função\" % id(c))\n",
    "    \n",
    "registrar(d)"
   ]
  },
  {
   "cell_type": "markdown",
   "id": "490a2c1d",
   "metadata": {},
   "source": [
    "## Exercício\n",
    "##### Use a caixa abaixo para resolver o exercício proposto no slide 115"
   ]
  },
  {
   "cell_type": "code",
   "execution_count": null,
   "id": "45def3ee",
   "metadata": {},
   "outputs": [],
   "source": [
    "# use este espaço para criar o código!!!\n",
    "\n",
    "\n"
   ]
  },
  {
   "cell_type": "markdown",
   "id": "b13df856",
   "metadata": {},
   "source": [
    "#### Atributos"
   ]
  },
  {
   "cell_type": "code",
   "execution_count": null,
   "id": "e50da7ee",
   "metadata": {},
   "outputs": [],
   "source": [
    "class cachorro(object):\n",
    "    cobertura = \"pelos\"\n",
    "    alimento = \"carne\"\n",
    "    patas = \"4\"\n",
    "    habitat = \"doméstico\"\n",
    "    nome = \"Rex\"\n",
    "    \n",
    "class Galinha(object):\n",
    "    cobertura = \"penas\"\n",
    "    alimento = \"graos\"\n",
    "    patas = \"2\"\n",
    "    habitat = \"doméstico\"\n",
    "    bico = \"pequeno\""
   ]
  },
  {
   "cell_type": "code",
   "execution_count": null,
   "id": "31f3f81a",
   "metadata": {},
   "outputs": [],
   "source": [
    "snoopy = cachorro()\n",
    "mary_lu = Galinha()\n",
    "print(snoopy.alimento)\n",
    "print(mary_lu.alimento)\n",
    "print(mary_lu.bico)"
   ]
  },
  {
   "cell_type": "markdown",
   "id": "ffbe46fc",
   "metadata": {},
   "source": [
    "#### Métodos"
   ]
  },
  {
   "cell_type": "code",
   "execution_count": null,
   "id": "9feb3965",
   "metadata": {},
   "outputs": [],
   "source": [
    "class cachorro(object):\n",
    "    cobertura = None\n",
    "    alimento = None\n",
    "    patas = None\n",
    "    domestico = None\n",
    "    nome = None\n",
    "    def latir(self):\n",
    "        print(\"Au au au\")"
   ]
  },
  {
   "cell_type": "code",
   "execution_count": null,
   "id": "d4fa9390",
   "metadata": {},
   "outputs": [],
   "source": [
    "def registrar(cachorro):\n",
    "    print(\"O cachorro informado tem ID: %d \" %id(cachorro))"
   ]
  },
  {
   "cell_type": "code",
   "execution_count": null,
   "id": "e0190f90",
   "metadata": {},
   "outputs": [],
   "source": [
    "cao1 = cachorro()\n",
    "cao1.cobertura = \"Pelos\"\n",
    "cao1.alimento = \"Ração\"\n",
    "cao1.patas = 4\n",
    "cao1.domestico = \"Sim\"\n",
    "cao1.nome = \"Rex\""
   ]
  },
  {
   "cell_type": "code",
   "execution_count": null,
   "id": "b6468bd2",
   "metadata": {},
   "outputs": [],
   "source": [
    "registrar(cao1)"
   ]
  },
  {
   "cell_type": "code",
   "execution_count": null,
   "id": "0e6a8c1b",
   "metadata": {},
   "outputs": [],
   "source": [
    "cao1.latir()"
   ]
  },
  {
   "cell_type": "markdown",
   "id": "7ad5e34c",
   "metadata": {},
   "source": [
    "## Exercício\n",
    "##### Use a caixa abaixo para resolver o exercício proposto no slide 120"
   ]
  },
  {
   "cell_type": "code",
   "execution_count": null,
   "id": "80d8a2bf",
   "metadata": {},
   "outputs": [],
   "source": [
    "# use este espaço para criar o código!!!\n",
    "\n",
    "\n"
   ]
  },
  {
   "cell_type": "markdown",
   "id": "147f64f4",
   "metadata": {},
   "source": [
    "#### SELF"
   ]
  },
  {
   "cell_type": "code",
   "execution_count": null,
   "id": "6274e5d8",
   "metadata": {},
   "outputs": [],
   "source": [
    "class circulo(object):\n",
    "    raio = None\n",
    "    def calcular_area(self):\n",
    "        self.area = 3.14*(self.raio**2)\n",
    "        return self.area"
   ]
  },
  {
   "cell_type": "code",
   "execution_count": null,
   "id": "8c9a90e7",
   "metadata": {},
   "outputs": [],
   "source": [
    "rodaBike = circulo()\n",
    "rodaBike.raio = 0.2"
   ]
  },
  {
   "cell_type": "code",
   "execution_count": null,
   "id": "b79ac1c5",
   "metadata": {},
   "outputs": [],
   "source": [
    "print(rodaBike.calcular_area())"
   ]
  },
  {
   "cell_type": "markdown",
   "id": "b9439ea9",
   "metadata": {},
   "source": [
    "#### Método \"__init__\""
   ]
  },
  {
   "cell_type": "code",
   "execution_count": null,
   "id": "3206827a",
   "metadata": {},
   "outputs": [],
   "source": [
    "class cachorro(object):\n",
    "    nome = None\n",
    "    cobertura = None\n",
    "    alimento = None\n",
    "    patas = None\n",
    "    def __init__(self,nome,cobertuta, alimento, patas):\n",
    "        self.nome = nome\n",
    "        self.cobertura = cobertuta\n",
    "        self.alimento=alimento\n",
    "        self.patas=patas"
   ]
  },
  {
   "cell_type": "code",
   "execution_count": null,
   "id": "d24fd487",
   "metadata": {},
   "outputs": [],
   "source": [
    "cao1 = cachorro(\"Rex\",\"Pelos\",\"Ração\",4)"
   ]
  },
  {
   "cell_type": "code",
   "execution_count": null,
   "id": "062d4f18",
   "metadata": {},
   "outputs": [],
   "source": [
    "print(\"Nome: %s, Cobertura: %s, Alimento: %s e Patas: %d\" % (cao1.nome, cao1.cobertura, cao1.alimento, cao1.patas))"
   ]
  },
  {
   "cell_type": "markdown",
   "id": "c580068a",
   "metadata": {},
   "source": [
    "## Exercício\n",
    "##### Use a caixa abaixo para resolver o exercício proposto no slide 125"
   ]
  },
  {
   "cell_type": "code",
   "execution_count": null,
   "id": "2b7e8a0c",
   "metadata": {},
   "outputs": [],
   "source": [
    "# use este espaço para criar o código!!!\n",
    "\n",
    "\n",
    "\n"
   ]
  },
  {
   "cell_type": "markdown",
   "id": "1e4b54a0",
   "metadata": {},
   "source": [
    "### Relacionamento entre Objetos"
   ]
  },
  {
   "cell_type": "markdown",
   "id": "b2eb0718",
   "metadata": {},
   "source": [
    "#### Herança"
   ]
  },
  {
   "cell_type": "code",
   "execution_count": null,
   "id": "75fddf56",
   "metadata": {},
   "outputs": [],
   "source": [
    "class Animal (object):\n",
    "    def __int__(self,nome,cobertura,habitat):\n",
    "        self.nome = nome\n",
    "        self.cobertura = cobertura\n",
    "        self.habitat = habitat\n",
    "class Ave(Animal):\n",
    "    def __int__(self,penas, tamanhoAsas):\n",
    "        self.penas = penas\n",
    "        self.tamanhoAsas = tamanhoAsas\n",
    "class BeijaoFlor(Ave):\n",
    "    def __init__(self,nFlores):\n",
    "        self.nFlores = nFlores"
   ]
  },
  {
   "cell_type": "code",
   "execution_count": null,
   "id": "4f5b2b2a",
   "metadata": {},
   "outputs": [],
   "source": [
    "bflor = BeijaoFlor(5)\n",
    "bflor.nome = \"Juca\"\n",
    "bflor.habitat = \"Florestas\"\n",
    "bflor.tamanhoAsas = \"Pequenas\""
   ]
  },
  {
   "cell_type": "code",
   "execution_count": null,
   "id": "dcd170de",
   "metadata": {},
   "outputs": [],
   "source": [
    "print(f\"O beija-flor tem as seguintes caracteristicas: {bflor.nome,bflor.habitat,bflor.tamanhoAsas}\")"
   ]
  },
  {
   "cell_type": "code",
   "execution_count": null,
   "id": "4d1113bb",
   "metadata": {},
   "outputs": [],
   "source": [
    "class Pai():\n",
    "    nome = \"Joao\"\n",
    "    sobrenome = \"Antiquera\"\n",
    "    residencia = \"SRS\"\n",
    "\n",
    "class Filha(Pai):\n",
    "    nome = \"Gertrudes\"\n",
    "    olhos = \"Azuis\"\n",
    "\n",
    "class Neto(Filha):\n",
    "    nome = \"Wagner\""
   ]
  },
  {
   "cell_type": "code",
   "execution_count": null,
   "id": "7ed7f2dd",
   "metadata": {},
   "outputs": [],
   "source": [
    "print(Pai.nome)\n",
    "print(Filha.residencia)"
   ]
  },
  {
   "cell_type": "markdown",
   "id": "ce4568d2",
   "metadata": {},
   "source": [
    "#### Herança com Superclasse"
   ]
  },
  {
   "cell_type": "code",
   "execution_count": null,
   "id": "abb49411",
   "metadata": {},
   "outputs": [],
   "source": [
    "class Pessoa():\n",
    "    nome = None\n",
    "    idade = None\n",
    "    def __init__(self, nome, idade):\n",
    "        self.nome = nome\n",
    "        self.idade = idade\n",
    "    def envelhecer(self):\n",
    "        self.idade += 1"
   ]
  },
  {
   "cell_type": "code",
   "execution_count": null,
   "id": "c0baab51",
   "metadata": {},
   "outputs": [],
   "source": [
    "class Atleta(Pessoa):\n",
    "    peso = None\n",
    "    aposentado = None\n",
    "    def __init__(self, nome, idade, peso):\n",
    "        super().__init__(nome, idade)\n",
    "        self.peso = peso\n",
    "    def aquecer(self):\n",
    "        print(\"Atleta aquecido!\")\n",
    "    def aposentar(self):\n",
    "        self.aposentado = True"
   ]
  },
  {
   "cell_type": "code",
   "execution_count": null,
   "id": "0411117a",
   "metadata": {},
   "outputs": [],
   "source": [
    "class Corredor(Atleta):\n",
    "    def correr(self):\n",
    "        print(\"Corredor Correndo!\")\n",
    "\n",
    "              \n",
    "class Nadador(Atleta):\n",
    "    def nadar(self):\n",
    "        print(\"Nadador nadando!\")\n",
    "\n",
    "\n",
    "class Ciclista(Atleta):\n",
    "    def pedalar(self):\n",
    "        print(\"Ciclista pedalando!\")"
   ]
  },
  {
   "cell_type": "code",
   "execution_count": null,
   "id": "95820489",
   "metadata": {},
   "outputs": [],
   "source": [
    "corredor_1 = Corredor(\"Vanderlei\", 37, 75)"
   ]
  },
  {
   "cell_type": "code",
   "execution_count": null,
   "id": "aaf49d1c",
   "metadata": {},
   "outputs": [],
   "source": [
    "corredor_1.aquecer()"
   ]
  },
  {
   "cell_type": "code",
   "execution_count": null,
   "id": "8b84bc5a",
   "metadata": {},
   "outputs": [],
   "source": [
    "corredor_1.correr()"
   ]
  },
  {
   "cell_type": "code",
   "execution_count": null,
   "id": "62499273",
   "metadata": {},
   "outputs": [],
   "source": [
    "nadador_1 = Nadador(\"Gustavo\", 35, 80)"
   ]
  },
  {
   "cell_type": "code",
   "execution_count": null,
   "id": "309d9db0",
   "metadata": {},
   "outputs": [],
   "source": [
    "print(nadador_1.nadar())\n",
    "nadador_1.envelhecer()\n",
    "nadador_1.aposentar()\n",
    "print(nadador_1.idade)\n",
    "print(nadador_1.aposentado)"
   ]
  },
  {
   "cell_type": "code",
   "execution_count": null,
   "id": "74f5096f",
   "metadata": {},
   "outputs": [],
   "source": [
    "issubclass(Nadador, Pessoa)"
   ]
  },
  {
   "cell_type": "code",
   "execution_count": null,
   "id": "d449c5af",
   "metadata": {},
   "outputs": [],
   "source": [
    "Nadador.__bases__"
   ]
  },
  {
   "cell_type": "code",
   "execution_count": null,
   "id": "2d03c3ea",
   "metadata": {},
   "outputs": [],
   "source": [
    "Atleta.__bases__"
   ]
  },
  {
   "cell_type": "markdown",
   "id": "e8be5f60",
   "metadata": {},
   "source": [
    "## Exercício\n",
    "##### Use a caixa abaixo para resolver o exercício proposto no slide 143"
   ]
  },
  {
   "cell_type": "code",
   "execution_count": null,
   "id": "c3b24101",
   "metadata": {},
   "outputs": [],
   "source": [
    "# use este espaço para criar o código!!!\n",
    "\n",
    "\n"
   ]
  },
  {
   "cell_type": "markdown",
   "id": "763409cf",
   "metadata": {},
   "source": [
    "#### Herança Múltipla"
   ]
  },
  {
   "cell_type": "code",
   "execution_count": null,
   "id": "17a07ba9",
   "metadata": {},
   "outputs": [],
   "source": [
    "class Triatleta(Nadador, Ciclista, Corredor):\n",
    "    pass"
   ]
  },
  {
   "cell_type": "code",
   "execution_count": null,
   "id": "7dfe89b5",
   "metadata": {},
   "outputs": [],
   "source": [
    "triatleta_1 = Triatleta(\"Joseane\", 28, 72)"
   ]
  },
  {
   "cell_type": "code",
   "execution_count": null,
   "id": "23a4b82f",
   "metadata": {},
   "outputs": [],
   "source": [
    "triatleta_1.nadar()\n",
    "triatleta_1.pedalar()\n",
    "triatleta_1.correr()"
   ]
  },
  {
   "cell_type": "markdown",
   "id": "dc8e3d91",
   "metadata": {},
   "source": [
    "#### Polimorfismo"
   ]
  },
  {
   "cell_type": "code",
   "execution_count": null,
   "id": "6cebbe0f",
   "metadata": {},
   "outputs": [],
   "source": [
    "class Carta():\n",
    "    def __init__(self, valor, naipe):\n",
    "        self.valor = valor\n",
    "        self.naipe = naipe\n",
    "    def __repr__(self):\n",
    "        return \"<%s de %s>\" % (self.valor, self.naipe)"
   ]
  },
  {
   "cell_type": "code",
   "execution_count": null,
   "id": "b4686d69",
   "metadata": {},
   "outputs": [],
   "source": [
    "class Baralho():\n",
    "    naipes = \"paus copas espadas ouros\".split()\n",
    "    valores = \"A 2 3 4 5 6 7 8 9 10 J Q K\".split()\n",
    "    def __init__(self):\n",
    "        self.cartas = [Carta(v, n) for n in self.naipes\n",
    "                                      for v in self.valores]\n",
    "    def __len__(self):\n",
    "        return len(self.cartas)\n",
    "    def __getitem__(self, pos):\n",
    "        return self.cartas[pos]\n",
    "    def __setitem__(self, pos, item):\n",
    "        self.cartas[pos] = item"
   ]
  },
  {
   "cell_type": "code",
   "execution_count": null,
   "id": "7d8f5790",
   "metadata": {},
   "outputs": [],
   "source": [
    "baralho = Baralho()\n",
    "for carta in reversed(baralho):\n",
    "    print(carta)"
   ]
  },
  {
   "cell_type": "markdown",
   "id": "9b0ab55d",
   "metadata": {},
   "source": [
    "## Exercício\n",
    "##### Use a caixa abaixo para resolver o exercício proposto no slide 161"
   ]
  },
  {
   "cell_type": "code",
   "execution_count": null,
   "id": "28984c0b",
   "metadata": {},
   "outputs": [],
   "source": [
    "# use este espaço para criar o código!!!\n",
    "\n"
   ]
  },
  {
   "cell_type": "code",
   "execution_count": null,
   "id": "d7f5972a",
   "metadata": {},
   "outputs": [],
   "source": []
  }
 ],
 "metadata": {
  "kernelspec": {
   "display_name": "Python 3 (ipykernel)",
   "language": "python",
   "name": "python3"
  },
  "language_info": {
   "codemirror_mode": {
    "name": "ipython",
    "version": 3
   },
   "file_extension": ".py",
   "mimetype": "text/x-python",
   "name": "python",
   "nbconvert_exporter": "python",
   "pygments_lexer": "ipython3",
   "version": "3.10.5"
  }
 },
 "nbformat": 4,
 "nbformat_minor": 5
}
